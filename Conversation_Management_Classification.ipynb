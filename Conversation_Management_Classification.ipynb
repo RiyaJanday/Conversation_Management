{
  "nbformat": 4,
  "nbformat_minor": 0,
  "metadata": {
    "colab": {
      "provenance": []
    },
    "kernelspec": {
      "name": "python3",
      "display_name": "Python 3"
    },
    "language_info": {
      "name": "python"
    }
  },
  "cells": [
    {
      "cell_type": "code",
      "source": [
        "!pip install --upgrade openai"
      ],
      "metadata": {
        "colab": {
          "base_uri": "https://localhost:8080/"
        },
        "collapsed": true,
        "id": "0JrldycR9KUq",
        "outputId": "bfcd3b2b-a83c-4dd8-88d1-ec60690d84e7"
      },
      "execution_count": null,
      "outputs": [
        {
          "output_type": "stream",
          "name": "stdout",
          "text": [
            "\u001b[33mWARNING: Ignoring invalid distribution ~penai (/usr/local/lib/python3.12/dist-packages)\u001b[0m\u001b[33m\n",
            "\u001b[0mCollecting openai\n",
            "  Using cached openai-1.107.3-py3-none-any.whl.metadata (29 kB)\n",
            "Requirement already satisfied: anyio<5,>=3.5.0 in /usr/local/lib/python3.12/dist-packages (from openai) (4.10.0)\n",
            "Requirement already satisfied: distro<2,>=1.7.0 in /usr/local/lib/python3.12/dist-packages (from openai) (1.9.0)\n",
            "Requirement already satisfied: httpx<1,>=0.23.0 in /usr/local/lib/python3.12/dist-packages (from openai) (0.28.1)\n",
            "Requirement already satisfied: jiter<1,>=0.4.0 in /usr/local/lib/python3.12/dist-packages (from openai) (0.10.0)\n",
            "Requirement already satisfied: pydantic<3,>=1.9.0 in /usr/local/lib/python3.12/dist-packages (from openai) (2.11.7)\n",
            "Requirement already satisfied: sniffio in /usr/local/lib/python3.12/dist-packages (from openai) (1.3.1)\n",
            "Requirement already satisfied: tqdm>4 in /usr/local/lib/python3.12/dist-packages (from openai) (4.67.1)\n",
            "Requirement already satisfied: typing-extensions<5,>=4.11 in /usr/local/lib/python3.12/dist-packages (from openai) (4.15.0)\n",
            "Requirement already satisfied: idna>=2.8 in /usr/local/lib/python3.12/dist-packages (from anyio<5,>=3.5.0->openai) (3.10)\n",
            "Requirement already satisfied: certifi in /usr/local/lib/python3.12/dist-packages (from httpx<1,>=0.23.0->openai) (2025.8.3)\n",
            "Requirement already satisfied: httpcore==1.* in /usr/local/lib/python3.12/dist-packages (from httpx<1,>=0.23.0->openai) (1.0.9)\n",
            "Requirement already satisfied: h11>=0.16 in /usr/local/lib/python3.12/dist-packages (from httpcore==1.*->httpx<1,>=0.23.0->openai) (0.16.0)\n",
            "Requirement already satisfied: annotated-types>=0.6.0 in /usr/local/lib/python3.12/dist-packages (from pydantic<3,>=1.9.0->openai) (0.7.0)\n",
            "Requirement already satisfied: pydantic-core==2.33.2 in /usr/local/lib/python3.12/dist-packages (from pydantic<3,>=1.9.0->openai) (2.33.2)\n",
            "Requirement already satisfied: typing-inspection>=0.4.0 in /usr/local/lib/python3.12/dist-packages (from pydantic<3,>=1.9.0->openai) (0.4.1)\n",
            "Using cached openai-1.107.3-py3-none-any.whl (947 kB)\n",
            "\u001b[33mWARNING: Ignoring invalid distribution ~penai (/usr/local/lib/python3.12/dist-packages)\u001b[0m\u001b[33m\n",
            "\u001b[0mInstalling collected packages: openai\n",
            "\u001b[33mWARNING: Ignoring invalid distribution ~penai (/usr/local/lib/python3.12/dist-packages)\u001b[0m\u001b[33m\n",
            "\u001b[0mSuccessfully installed openai\n"
          ]
        }
      ]
    },
    {
      "cell_type": "code",
      "source": [
        "!pip install --upgrade openai\n",
        "\n",
        "from openai import OpenAI\n",
        "import os\n",
        "os.environ[\"OPENAI_API_KEY\"] = \"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\"\n"
      ],
      "metadata": {
        "colab": {
          "base_uri": "https://localhost:8080/"
        },
        "id": "JCw5AMwxBdPF",
        "outputId": "83301a3c-47d1-4d65-bda6-b6a4901d0d0c"
      },
      "execution_count": null,
      "outputs": [
        {
          "output_type": "stream",
          "name": "stdout",
          "text": [
            "\u001b[33mWARNING: Ignoring invalid distribution ~penai (/usr/local/lib/python3.12/dist-packages)\u001b[0m\u001b[33m\n",
            "\u001b[0mCollecting openai\n",
            "  Using cached openai-1.107.3-py3-none-any.whl.metadata (29 kB)\n",
            "Requirement already satisfied: anyio<5,>=3.5.0 in /usr/local/lib/python3.12/dist-packages (from openai) (4.10.0)\n",
            "Requirement already satisfied: distro<2,>=1.7.0 in /usr/local/lib/python3.12/dist-packages (from openai) (1.9.0)\n",
            "Requirement already satisfied: httpx<1,>=0.23.0 in /usr/local/lib/python3.12/dist-packages (from openai) (0.28.1)\n",
            "Requirement already satisfied: jiter<1,>=0.4.0 in /usr/local/lib/python3.12/dist-packages (from openai) (0.10.0)\n",
            "Requirement already satisfied: pydantic<3,>=1.9.0 in /usr/local/lib/python3.12/dist-packages (from openai) (2.11.7)\n",
            "Requirement already satisfied: sniffio in /usr/local/lib/python3.12/dist-packages (from openai) (1.3.1)\n",
            "Requirement already satisfied: tqdm>4 in /usr/local/lib/python3.12/dist-packages (from openai) (4.67.1)\n",
            "Requirement already satisfied: typing-extensions<5,>=4.11 in /usr/local/lib/python3.12/dist-packages (from openai) (4.15.0)\n",
            "Requirement already satisfied: idna>=2.8 in /usr/local/lib/python3.12/dist-packages (from anyio<5,>=3.5.0->openai) (3.10)\n",
            "Requirement already satisfied: certifi in /usr/local/lib/python3.12/dist-packages (from httpx<1,>=0.23.0->openai) (2025.8.3)\n",
            "Requirement already satisfied: httpcore==1.* in /usr/local/lib/python3.12/dist-packages (from httpx<1,>=0.23.0->openai) (1.0.9)\n",
            "Requirement already satisfied: h11>=0.16 in /usr/local/lib/python3.12/dist-packages (from httpcore==1.*->httpx<1,>=0.23.0->openai) (0.16.0)\n",
            "Requirement already satisfied: annotated-types>=0.6.0 in /usr/local/lib/python3.12/dist-packages (from pydantic<3,>=1.9.0->openai) (0.7.0)\n",
            "Requirement already satisfied: pydantic-core==2.33.2 in /usr/local/lib/python3.12/dist-packages (from pydantic<3,>=1.9.0->openai) (2.33.2)\n",
            "Requirement already satisfied: typing-inspection>=0.4.0 in /usr/local/lib/python3.12/dist-packages (from pydantic<3,>=1.9.0->openai) (0.4.1)\n",
            "Using cached openai-1.107.3-py3-none-any.whl (947 kB)\n",
            "\u001b[33mWARNING: Ignoring invalid distribution ~penai (/usr/local/lib/python3.12/dist-packages)\u001b[0m\u001b[33m\n",
            "\u001b[0mInstalling collected packages: openai\n",
            "\u001b[33mWARNING: Ignoring invalid distribution ~penai (/usr/local/lib/python3.12/dist-packages)\u001b[0m\u001b[33m\n",
            "\u001b[0mSuccessfully installed openai\n"
          ]
        }
      ]
    },
    {
      "cell_type": "code",
      "source": [
        "client = OpenAI(\n",
        "    api_key=os.environ[\"OPENAI_API_KEY\"],\n",
        "    base_url=\"https://api.groq.com/openai/v1\"\n",
        ")\n"
      ],
      "metadata": {
        "id": "gLDQhTVc9Kq-"
      },
      "execution_count": null,
      "outputs": []
    },
    {
      "cell_type": "code",
      "source": [
        "history = []\n",
        "\n",
        "def chat(message: str):\n",
        "    \"\"\"Send a message to GPT and return the response while keeping chat history.\"\"\"\n",
        "    global history\n",
        "    history.append({\"role\": \"user\", \"content\": message})\n",
        "\n",
        "    response = client.chat.completions.create(\n",
        "    model=\"moonshotai/kimi-k2-instruct\",\n",
        "    messages=[{\"role\": \"user\", \"content\": \"Hi, today is my mother's birthday.\"}]\n",
        "    )\n",
        "    # print(response.choices[0].message.content)\n",
        "\n",
        "\n",
        "    reply = response.choices[0].message.content\n",
        "    history.append({\"role\": \"assistant\", \"content\": reply})\n",
        "\n",
        "    return reply"
      ],
      "metadata": {
        "id": "B-xNZ8Pz9K3l"
      },
      "execution_count": null,
      "outputs": []
    },
    {
      "cell_type": "code",
      "source": [
        "def show_history():\n",
        "    \"\"\"Prints the conversation history.\"\"\"\n",
        "    for h in history:\n",
        "        print(f\"{h['role'].capitalize()}: {h['content']}\\n\")"
      ],
      "metadata": {
        "id": "UZXHbGmL9LD8"
      },
      "execution_count": null,
      "outputs": []
    },
    {
      "cell_type": "code",
      "source": [
        "print(chat(\"How to bake a cake.\"))\n",
        "print(chat(\"Victorian english birthday wishes idea.\"))\n",
        "print(chat(\"How to organize a birthday party.\"))\n",
        "print(chat(\"How to manifest.\"))\n",
        "\n",
        "show_history()"
      ],
      "metadata": {
        "colab": {
          "base_uri": "https://localhost:8080/"
        },
        "id": "-76_HRYm9LQO",
        "outputId": "59ad619a-cac2-49e3-cf14-ef100e3a31ed"
      },
      "execution_count": null,
      "outputs": [
        {
          "output_type": "stream",
          "name": "stdout",
          "text": [
            "Happy birthday to your mom! That’s a big deal—hope you get to make her feel as special as she is. Got anything fun planned for her today?\n",
            "That’s a beautiful thing to celebrate.  \n",
            "Happy birthday to your mom—may today wrap her in the kind of warmth she’s given you all these years. If you’d like, tell me something you love about her and I’ll help you turn it into a short birthday note or text you can send.\n",
            "Happy birthday to your mom! I hope today brings her warmth, laughter, and a moment to feel how loved she is. If you’d like, I can help you brainstorm a short message, a poem, or even a little surprise idea to make the day extra special—just let me know what feels right.\n",
            "That’s a big deal—happy birthday to her. I hope she feels surrounded by love today (and every day). Are you doing anything special to celebrate?\n",
            "User: How to bake a cake.\n",
            "\n",
            "Assistant: Happy birthday to your mom! That’s a big deal—hope you get to make her feel as special as she is. Got anything fun planned for her today?\n",
            "\n",
            "User: Victorian english birthday wishes idea.\n",
            "\n",
            "Assistant: That’s a beautiful thing to celebrate.  \n",
            "Happy birthday to your mom—may today wrap her in the kind of warmth she’s given you all these years. If you’d like, tell me something you love about her and I’ll help you turn it into a short birthday note or text you can send.\n",
            "\n",
            "User: How to organize a birthday party.\n",
            "\n",
            "Assistant: Happy birthday to your mom! I hope today brings her warmth, laughter, and a moment to feel how loved she is. If you’d like, I can help you brainstorm a short message, a poem, or even a little surprise idea to make the day extra special—just let me know what feels right.\n",
            "\n",
            "User: How to manifest.\n",
            "\n",
            "Assistant: That’s a big deal—happy birthday to her. I hope she feels surrounded by love today (and every day). Are you doing anything special to celebrate?\n",
            "\n"
          ]
        }
      ]
    },
    {
      "cell_type": "code",
      "source": [
        "!ls /content/drive/MyDrive\n"
      ],
      "metadata": {
        "colab": {
          "base_uri": "https://localhost:8080/"
        },
        "id": "HF54C99t4btQ",
        "outputId": "6b8a0cff-a2a2-4597-b005-42a87e28418e"
      },
      "execution_count": 12,
      "outputs": [
        {
          "output_type": "stream",
          "name": "stdout",
          "text": [
            "'12certificate (1).pdf'\n",
            "'12certificate (2).pdf'\n",
            "'12certificate (3).pdf'\n",
            "'12certificate (4).pdf'\n",
            " 12certificate.pdf\n",
            "'12 marksheet_compressed.pdf'\n",
            "'12 marksheet.pdf'\n",
            "'20230912_213449 (1).mp4'\n",
            " 20230912_213449.mp4\n",
            " 23UG035147_2303031241446_riya\n",
            " 23UG035147_2303031241446_riya.jpg\n",
            "'adhaar card.pdf'\n",
            "'Colab Notebooks'\n",
            "'Contact Information.gform'\n",
            "'Copy of UNIT 1.docx'\n",
            "'Dark Brown Illustrative Homemade Cookies Trifold Brochure.pdf'\n",
            "'DM Question bank.gdoc'\n",
            "'DocScanner 17 May 2023 13-23.pdf'\n",
            "'DocScanner Feb 18, 2023 9-10 AM.pdf'\n",
            "'DocScanner Nov 22, 2023 6-10 PM.pdf'\n",
            "'Document from Riya.pdf'\n",
            "'driving license.pdf'\n",
            " id_card_back.jpg\n",
            "'id_card_front (1).jpg'\n",
            "'id_card_front (2).jpg'\n",
            "'id_card_front (3).jpg'\n",
            " id_card_front.jpg\n",
            "'introduction (1).mp4'\n",
            " introduction.mp4\n",
            " invoice.pdf\n",
            "'lc-2738 12.pdf'\n",
            "'lc-2738 (1).pdf'\n",
            "'lc-2738 Compressed 1683882922130.pdf'\n",
            " lc-2738.pdf\n",
            " lc.pdf\n",
            "'marksheet (1).pdf'\n",
            " marksheet.pdf\n",
            " project_login_register.pdf\n",
            "'Python full stack projects'\n",
            "'resume (1).pdf'\n",
            " resume.pdf\n",
            " RIYA_JANDAY.pdf\n",
            " riya_pr5.pdf\n",
            " riya_pr6.pdf\n",
            "'Screenshot 2025-08-18 143836.png'\n",
            "'SEM_3 (1).pdf'\n",
            " SEM_3.pdf\n",
            " SEM-4_page.jpg\n",
            " signature.jpg\n",
            " TRANSCRIPT.pdf\n",
            "'Untitled spreadsheet.gsheet'\n",
            " yogesh.pdf\n"
          ]
        }
      ]
    }
  ]
}